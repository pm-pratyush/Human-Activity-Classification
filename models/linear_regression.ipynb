{
 "cells": [
  {
   "cell_type": "code",
   "execution_count": 14,
   "metadata": {},
   "outputs": [],
   "source": [
    "# import useful libraries\n",
    "import os\n",
    "import numpy as np\n",
    "import pandas as pd\n",
    "import seaborn as sns\n",
    "import matplotlib.pyplot as plt\n",
    "\n",
    "# ignore warnings\n",
    "import warnings\n",
    "warnings.filterwarnings('ignore')\n",
    "\n",
    "# import helper functions"
   ]
  },
  {
   "cell_type": "code",
   "execution_count": 15,
   "metadata": {},
   "outputs": [
    {
     "name": "stdout",
     "output_type": "stream",
     "text": [
      "<class 'pandas.core.frame.DataFrame'>\n",
      "RangeIndex: 207842 entries, 0 to 207841\n",
      "Data columns (total 40 columns):\n",
      " #   Column            Non-Null Count   Dtype  \n",
      "---  ------            --------------   -----  \n",
      " 0   heartrate         207842 non-null  float64\n",
      " 1   handTemperature   207842 non-null  float64\n",
      " 2   handAcc16_1       207842 non-null  float64\n",
      " 3   handAcc16_2       207842 non-null  float64\n",
      " 4   handAcc16_3       207842 non-null  float64\n",
      " 5   handAcc6_1        207842 non-null  float64\n",
      " 6   handAcc6_2        207842 non-null  float64\n",
      " 7   handAcc6_3        207842 non-null  float64\n",
      " 8   handGyro1         207842 non-null  float64\n",
      " 9   handGyro2         207842 non-null  float64\n",
      " 10  handGyro3         207842 non-null  float64\n",
      " 11  handMagne1        207842 non-null  float64\n",
      " 12  handMagne2        207842 non-null  float64\n",
      " 13  handMagne3        207842 non-null  float64\n",
      " 14  chestTemperature  207842 non-null  float64\n",
      " 15  chestAcc16_1      207842 non-null  float64\n",
      " 16  chestAcc16_2      207842 non-null  float64\n",
      " 17  chestAcc16_3      207842 non-null  float64\n",
      " 18  chestAcc6_1       207842 non-null  float64\n",
      " 19  chestAcc6_2       207842 non-null  float64\n",
      " 20  chestAcc6_3       207842 non-null  float64\n",
      " 21  chestGyro1        207842 non-null  float64\n",
      " 22  chestGyro2        207842 non-null  float64\n",
      " 23  chestGyro3        207842 non-null  float64\n",
      " 24  chestMagne1       207842 non-null  float64\n",
      " 25  chestMagne2       207842 non-null  float64\n",
      " 26  chestMagne3       207842 non-null  float64\n",
      " 27  ankleTemperature  207842 non-null  float64\n",
      " 28  ankleAcc16_1      207842 non-null  float64\n",
      " 29  ankleAcc16_2      207842 non-null  float64\n",
      " 30  ankleAcc16_3      207842 non-null  float64\n",
      " 31  ankleAcc6_1       207842 non-null  float64\n",
      " 32  ankleAcc6_2       207842 non-null  float64\n",
      " 33  ankleAcc6_3       207842 non-null  float64\n",
      " 34  ankleGyro1        207842 non-null  float64\n",
      " 35  ankleGyro2        207842 non-null  float64\n",
      " 36  ankleGyro3        207842 non-null  float64\n",
      " 37  ankleMagne1       207842 non-null  float64\n",
      " 38  ankleMagne2       207842 non-null  float64\n",
      " 39  ankleMagne3       207842 non-null  float64\n",
      "dtypes: float64(40)\n",
      "memory usage: 63.4 MB\n"
     ]
    }
   ],
   "source": [
    "data_folder = 'data'\n",
    "\n",
    "\n",
    "def get_dataframes():\n",
    "    train_X = pd.read_csv('../' + data_folder + '/' + 'train_X.csv')\n",
    "    train_Y = pd.read_csv('../' + data_folder + '/' + 'train_y.csv')\n",
    "    test_X = pd.read_csv('../' + data_folder + '/' + 'test_X.csv')\n",
    "    test_Y = pd.read_csv('../' + data_folder + '/' + 'test_y.csv')\n",
    "    return train_X, train_Y, test_X, test_Y\n",
    "\n",
    "\n",
    "# import the test and train dataframes\n",
    "train_X, train_Y, test_X, test_Y = get_dataframes()\n",
    "\n",
    "train_X.info()\n"
   ]
  },
  {
   "cell_type": "code",
   "execution_count": 16,
   "metadata": {},
   "outputs": [
    {
     "data": {
      "text/html": [
       "<style>#sk-container-id-4 {color: black;background-color: white;}#sk-container-id-4 pre{padding: 0;}#sk-container-id-4 div.sk-toggleable {background-color: white;}#sk-container-id-4 label.sk-toggleable__label {cursor: pointer;display: block;width: 100%;margin-bottom: 0;padding: 0.3em;box-sizing: border-box;text-align: center;}#sk-container-id-4 label.sk-toggleable__label-arrow:before {content: \"▸\";float: left;margin-right: 0.25em;color: #696969;}#sk-container-id-4 label.sk-toggleable__label-arrow:hover:before {color: black;}#sk-container-id-4 div.sk-estimator:hover label.sk-toggleable__label-arrow:before {color: black;}#sk-container-id-4 div.sk-toggleable__content {max-height: 0;max-width: 0;overflow: hidden;text-align: left;background-color: #f0f8ff;}#sk-container-id-4 div.sk-toggleable__content pre {margin: 0.2em;color: black;border-radius: 0.25em;background-color: #f0f8ff;}#sk-container-id-4 input.sk-toggleable__control:checked~div.sk-toggleable__content {max-height: 200px;max-width: 100%;overflow: auto;}#sk-container-id-4 input.sk-toggleable__control:checked~label.sk-toggleable__label-arrow:before {content: \"▾\";}#sk-container-id-4 div.sk-estimator input.sk-toggleable__control:checked~label.sk-toggleable__label {background-color: #d4ebff;}#sk-container-id-4 div.sk-label input.sk-toggleable__control:checked~label.sk-toggleable__label {background-color: #d4ebff;}#sk-container-id-4 input.sk-hidden--visually {border: 0;clip: rect(1px 1px 1px 1px);clip: rect(1px, 1px, 1px, 1px);height: 1px;margin: -1px;overflow: hidden;padding: 0;position: absolute;width: 1px;}#sk-container-id-4 div.sk-estimator {font-family: monospace;background-color: #f0f8ff;border: 1px dotted black;border-radius: 0.25em;box-sizing: border-box;margin-bottom: 0.5em;}#sk-container-id-4 div.sk-estimator:hover {background-color: #d4ebff;}#sk-container-id-4 div.sk-parallel-item::after {content: \"\";width: 100%;border-bottom: 1px solid gray;flex-grow: 1;}#sk-container-id-4 div.sk-label:hover label.sk-toggleable__label {background-color: #d4ebff;}#sk-container-id-4 div.sk-serial::before {content: \"\";position: absolute;border-left: 1px solid gray;box-sizing: border-box;top: 0;bottom: 0;left: 50%;z-index: 0;}#sk-container-id-4 div.sk-serial {display: flex;flex-direction: column;align-items: center;background-color: white;padding-right: 0.2em;padding-left: 0.2em;position: relative;}#sk-container-id-4 div.sk-item {position: relative;z-index: 1;}#sk-container-id-4 div.sk-parallel {display: flex;align-items: stretch;justify-content: center;background-color: white;position: relative;}#sk-container-id-4 div.sk-item::before, #sk-container-id-4 div.sk-parallel-item::before {content: \"\";position: absolute;border-left: 1px solid gray;box-sizing: border-box;top: 0;bottom: 0;left: 50%;z-index: -1;}#sk-container-id-4 div.sk-parallel-item {display: flex;flex-direction: column;z-index: 1;position: relative;background-color: white;}#sk-container-id-4 div.sk-parallel-item:first-child::after {align-self: flex-end;width: 50%;}#sk-container-id-4 div.sk-parallel-item:last-child::after {align-self: flex-start;width: 50%;}#sk-container-id-4 div.sk-parallel-item:only-child::after {width: 0;}#sk-container-id-4 div.sk-dashed-wrapped {border: 1px dashed gray;margin: 0 0.4em 0.5em 0.4em;box-sizing: border-box;padding-bottom: 0.4em;background-color: white;}#sk-container-id-4 div.sk-label label {font-family: monospace;font-weight: bold;display: inline-block;line-height: 1.2em;}#sk-container-id-4 div.sk-label-container {text-align: center;}#sk-container-id-4 div.sk-container {/* jupyter's `normalize.less` sets `[hidden] { display: none; }` but bootstrap.min.css set `[hidden] { display: none !important; }` so we also need the `!important` here to be able to override the default hidden behavior on the sphinx rendered scikit-learn.org. See: https://github.com/scikit-learn/scikit-learn/issues/21755 */display: inline-block !important;position: relative;}#sk-container-id-4 div.sk-text-repr-fallback {display: none;}</style><div id=\"sk-container-id-4\" class=\"sk-top-container\"><div class=\"sk-text-repr-fallback\"><pre>LogisticRegression(max_iter=5000, multi_class=&#x27;multinomial&#x27;, random_state=42,\n",
       "                   solver=&#x27;sag&#x27;)</pre><b>In a Jupyter environment, please rerun this cell to show the HTML representation or trust the notebook. <br />On GitHub, the HTML representation is unable to render, please try loading this page with nbviewer.org.</b></div><div class=\"sk-container\" hidden><div class=\"sk-item\"><div class=\"sk-estimator sk-toggleable\"><input class=\"sk-toggleable__control sk-hidden--visually\" id=\"sk-estimator-id-4\" type=\"checkbox\" checked><label for=\"sk-estimator-id-4\" class=\"sk-toggleable__label sk-toggleable__label-arrow\">LogisticRegression</label><div class=\"sk-toggleable__content\"><pre>LogisticRegression(max_iter=5000, multi_class=&#x27;multinomial&#x27;, random_state=42,\n",
       "                   solver=&#x27;sag&#x27;)</pre></div></div></div></div></div>"
      ],
      "text/plain": [
       "LogisticRegression(max_iter=5000, multi_class='multinomial', random_state=42,\n",
       "                   solver='sag')"
      ]
     },
     "execution_count": 16,
     "metadata": {},
     "output_type": "execute_result"
    }
   ],
   "source": [
    "# apply logistic regression using Stochastic Gradient Descent (SGD) as the optimizer for the loss function J(θ) = ∑m i=0 (hθ(x(i)) − y(i))2 + 1/C * ||θ||2\n",
    "\n",
    "# # import the required libraries\n",
    "# from sklearn.linear_model import SGDClassifier\n",
    "# from sklearn.metrics import accuracy_score\n",
    "\n",
    "# # create an instance of the SGDClassifier\n",
    "# sgd_clf = SGDClassifier(random_state=42)\n",
    "\n",
    "# # fit the model on the training data\n",
    "# sgd_clf.fit(train_X, train_Y)\n",
    "\n",
    "# # predict the labels on the test data\n",
    "# y_pred = sgd_clf.predict(test_X)\n",
    "\n",
    "# # calculate the accuracy score\n",
    "# accuracy_score(test_Y, y_pred)\n",
    "\n",
    "# apply logistoic regression using sklearns linear_model.LogisticRegression and solver as sgd\n",
    "\n",
    "# import the required libraries\n",
    "from sklearn.linear_model import LogisticRegression\n",
    "\n",
    "# create an instance of the LogisticRegression\n",
    "log_reg = LogisticRegression(solver='sag',\n",
    "                             multi_class='multinomial',\n",
    "                             max_iter=5000, random_state=42)\n",
    "\n",
    "# only take the first 5000 rows of the data\n",
    "# train_X = train_X\n",
    "# train_Y = train_Y\n",
    "# test_X = test_X\n",
    "# test_Y = test_Y\n",
    "\n",
    "# fit the model on the training data\n",
    "log_reg.fit(train_X, train_Y)\n",
    "\n",
    "# predict the labels on the test data\n",
    "# y_pred = log_reg.predict(test_X)\n",
    "\n",
    "# # calculate the accuracy score\n",
    "# accuracy_score(test_Y, y_pred)\n"
   ]
  },
  {
   "cell_type": "code",
   "execution_count": 17,
   "metadata": {},
   "outputs": [
    {
     "data": {
      "text/plain": [
       "0.6762764380978041"
      ]
     },
     "execution_count": 17,
     "metadata": {},
     "output_type": "execute_result"
    }
   ],
   "source": [
    "# predict the labels on the test data\n",
    "from sklearn.metrics import accuracy_score\n",
    "y_pred = log_reg.predict(test_X)\n",
    "\n",
    "# calculate the accuracy score\n",
    "accuracy_score(test_Y, y_pred)\n"
   ]
  }
 ],
 "metadata": {
  "kernelspec": {
   "display_name": "Python 3",
   "language": "python",
   "name": "python3"
  },
  "language_info": {
   "codemirror_mode": {
    "name": "ipython",
    "version": 3
   },
   "file_extension": ".py",
   "mimetype": "text/x-python",
   "name": "python",
   "nbconvert_exporter": "python",
   "pygments_lexer": "ipython3",
   "version": "3.10.2"
  },
  "orig_nbformat": 4
 },
 "nbformat": 4,
 "nbformat_minor": 2
}
