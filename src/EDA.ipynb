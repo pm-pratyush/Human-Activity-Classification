{
 "cells": [
  {
   "cell_type": "code",
   "execution_count": 1,
   "metadata": {},
   "outputs": [],
   "source": [
    "# import useful libraries\n",
    "import os\n",
    "import numpy as np\n",
    "import pandas as pd\n",
    "import seaborn as sns\n",
    "import matplotlib.pyplot as plt\n",
    "from sklearn.model_selection import validation_curve\n",
    "from sklearn.metrics import accuracy_score\n",
    "from sklearn.svm import SVC\n",
    "from sklearn.metrics import accuracy_score\n",
    "\n",
    "\n",
    "# ignore warnings\n",
    "import warnings\n",
    "warnings.filterwarnings('ignore')\n",
    "\n",
    "# import helper functions\n"
   ]
  },
  {
   "cell_type": "code",
   "execution_count": 2,
   "metadata": {},
   "outputs": [
    {
     "name": "stdout",
     "output_type": "stream",
     "text": [
      "<class 'pandas.core.frame.DataFrame'>\n",
      "RangeIndex: 140398 entries, 0 to 140397\n",
      "Data columns (total 40 columns):\n",
      " #   Column            Non-Null Count   Dtype  \n",
      "---  ------            --------------   -----  \n",
      " 0   heartrate         140398 non-null  float64\n",
      " 1   handTemperature   140398 non-null  float64\n",
      " 2   handAcc16_1       140398 non-null  float64\n",
      " 3   handAcc16_2       140398 non-null  float64\n",
      " 4   handAcc16_3       140398 non-null  float64\n",
      " 5   handAcc6_1        140398 non-null  float64\n",
      " 6   handAcc6_2        140398 non-null  float64\n",
      " 7   handAcc6_3        140398 non-null  float64\n",
      " 8   handGyro1         140398 non-null  float64\n",
      " 9   handGyro2         140398 non-null  float64\n",
      " 10  handGyro3         140398 non-null  float64\n",
      " 11  handMagne1        140398 non-null  float64\n",
      " 12  handMagne2        140398 non-null  float64\n",
      " 13  handMagne3        140398 non-null  float64\n",
      " 14  chestTemperature  140398 non-null  float64\n",
      " 15  chestAcc16_1      140398 non-null  float64\n",
      " 16  chestAcc16_2      140398 non-null  float64\n",
      " 17  chestAcc16_3      140398 non-null  float64\n",
      " 18  chestAcc6_1       140398 non-null  float64\n",
      " 19  chestAcc6_2       140398 non-null  float64\n",
      " 20  chestAcc6_3       140398 non-null  float64\n",
      " 21  chestGyro1        140398 non-null  float64\n",
      " 22  chestGyro2        140398 non-null  float64\n",
      " 23  chestGyro3        140398 non-null  float64\n",
      " 24  chestMagne1       140398 non-null  float64\n",
      " 25  chestMagne2       140398 non-null  float64\n",
      " 26  chestMagne3       140398 non-null  float64\n",
      " 27  ankleTemperature  140398 non-null  float64\n",
      " 28  ankleAcc16_1      140398 non-null  float64\n",
      " 29  ankleAcc16_2      140398 non-null  float64\n",
      " 30  ankleAcc16_3      140398 non-null  float64\n",
      " 31  ankleAcc6_1       140398 non-null  float64\n",
      " 32  ankleAcc6_2       140398 non-null  float64\n",
      " 33  ankleAcc6_3       140398 non-null  float64\n",
      " 34  ankleGyro1        140398 non-null  float64\n",
      " 35  ankleGyro2        140398 non-null  float64\n",
      " 36  ankleGyro3        140398 non-null  float64\n",
      " 37  ankleMagne1       140398 non-null  float64\n",
      " 38  ankleMagne2       140398 non-null  float64\n",
      " 39  ankleMagne3       140398 non-null  float64\n",
      "dtypes: float64(40)\n",
      "memory usage: 42.8 MB\n"
     ]
    }
   ],
   "source": [
    "data_folder = 'data'\n",
    "\n",
    "\n",
    "def get_dataframes():\n",
    "    train_X = pd.read_csv('../' + data_folder + '/' + 'train_X.csv')\n",
    "    train_Y = pd.read_csv('../' + data_folder + '/' + 'train_y.csv')\n",
    "    test_X = pd.read_csv('../' + data_folder + '/' + 'test_X.csv')\n",
    "    test_Y = pd.read_csv('../' + data_folder + '/' + 'test_y.csv')\n",
    "    return train_X, train_Y, test_X, test_Y\n",
    "\n",
    "\n",
    "# import the test and train dataframes\n",
    "train_X, train_Y, test_X, test_Y = get_dataframes()\n",
    "\n",
    "train_X.info()"
   ]
  },
  {
   "cell_type": "code",
   "execution_count": 7,
   "metadata": {},
   "outputs": [
    {
     "name": "stdout",
     "output_type": "stream",
     "text": [
      "[16 17  7 13  6 12  4  2  5  3  1 24]\n",
      "[13 17  7  1  4 12  6  3  5  2 16 24]\n"
     ]
    }
   ],
   "source": [
    "# get the unique classes from train_Y\n",
    "print(train_Y['activityID'].unique())\n",
    "print(test_Y['activityID'].unique())"
   ]
  }
 ],
 "metadata": {
  "kernelspec": {
   "display_name": "Python 3",
   "language": "python",
   "name": "python3"
  },
  "language_info": {
   "codemirror_mode": {
    "name": "ipython",
    "version": 3
   },
   "file_extension": ".py",
   "mimetype": "text/x-python",
   "name": "python",
   "nbconvert_exporter": "python",
   "pygments_lexer": "ipython3",
   "version": "3.10.2"
  },
  "orig_nbformat": 4
 },
 "nbformat": 4,
 "nbformat_minor": 2
}
