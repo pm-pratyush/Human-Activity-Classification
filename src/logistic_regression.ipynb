{
 "cells": [
  {
   "cell_type": "code",
   "execution_count": 6,
   "metadata": {},
   "outputs": [],
   "source": [
    "# import useful libraries\n",
    "import os\n",
    "import numpy as np\n",
    "import pandas as pd\n",
    "import seaborn as sns\n",
    "import matplotlib.pyplot as plt\n",
    "from sklearn.linear_model import LogisticRegression\n",
    "from sklearn.model_selection import cross_val_score\n",
    "from sklearn.metrics import accuracy_score\n",
    "import joblib\n",
    "\n",
    "\n",
    "\n",
    "# ignore warnings\n",
    "import warnings\n",
    "warnings.filterwarnings('ignore')\n",
    "\n",
    "# import helper functions"
   ]
  },
  {
   "cell_type": "code",
   "execution_count": 7,
   "metadata": {},
   "outputs": [
    {
     "name": "stdout",
     "output_type": "stream",
     "text": [
      "<class 'pandas.core.frame.DataFrame'>\n",
      "RangeIndex: 140398 entries, 0 to 140397\n",
      "Data columns (total 40 columns):\n",
      " #   Column            Non-Null Count   Dtype  \n",
      "---  ------            --------------   -----  \n",
      " 0   heartrate         140398 non-null  float64\n",
      " 1   handTemperature   140398 non-null  float64\n",
      " 2   handAcc16_1       140398 non-null  float64\n",
      " 3   handAcc16_2       140398 non-null  float64\n",
      " 4   handAcc16_3       140398 non-null  float64\n",
      " 5   handAcc6_1        140398 non-null  float64\n",
      " 6   handAcc6_2        140398 non-null  float64\n",
      " 7   handAcc6_3        140398 non-null  float64\n",
      " 8   handGyro1         140398 non-null  float64\n",
      " 9   handGyro2         140398 non-null  float64\n",
      " 10  handGyro3         140398 non-null  float64\n",
      " 11  handMagne1        140398 non-null  float64\n",
      " 12  handMagne2        140398 non-null  float64\n",
      " 13  handMagne3        140398 non-null  float64\n",
      " 14  chestTemperature  140398 non-null  float64\n",
      " 15  chestAcc16_1      140398 non-null  float64\n",
      " 16  chestAcc16_2      140398 non-null  float64\n",
      " 17  chestAcc16_3      140398 non-null  float64\n",
      " 18  chestAcc6_1       140398 non-null  float64\n",
      " 19  chestAcc6_2       140398 non-null  float64\n",
      " 20  chestAcc6_3       140398 non-null  float64\n",
      " 21  chestGyro1        140398 non-null  float64\n",
      " 22  chestGyro2        140398 non-null  float64\n",
      " 23  chestGyro3        140398 non-null  float64\n",
      " 24  chestMagne1       140398 non-null  float64\n",
      " 25  chestMagne2       140398 non-null  float64\n",
      " 26  chestMagne3       140398 non-null  float64\n",
      " 27  ankleTemperature  140398 non-null  float64\n",
      " 28  ankleAcc16_1      140398 non-null  float64\n",
      " 29  ankleAcc16_2      140398 non-null  float64\n",
      " 30  ankleAcc16_3      140398 non-null  float64\n",
      " 31  ankleAcc6_1       140398 non-null  float64\n",
      " 32  ankleAcc6_2       140398 non-null  float64\n",
      " 33  ankleAcc6_3       140398 non-null  float64\n",
      " 34  ankleGyro1        140398 non-null  float64\n",
      " 35  ankleGyro2        140398 non-null  float64\n",
      " 36  ankleGyro3        140398 non-null  float64\n",
      " 37  ankleMagne1       140398 non-null  float64\n",
      " 38  ankleMagne2       140398 non-null  float64\n",
      " 39  ankleMagne3       140398 non-null  float64\n",
      "dtypes: float64(40)\n",
      "memory usage: 42.8 MB\n"
     ]
    }
   ],
   "source": [
    "data_folder = 'data'\n",
    "\n",
    "\n",
    "def get_dataframes():\n",
    "    train_X = pd.read_csv('../' + data_folder + '/' + 'train_X.csv')\n",
    "    train_Y = pd.read_csv('../' + data_folder + '/' + 'train_y.csv')\n",
    "    test_X = pd.read_csv('../' + data_folder + '/' + 'test_X.csv')\n",
    "    test_Y = pd.read_csv('../' + data_folder + '/' + 'test_y.csv')\n",
    "    return train_X, train_Y, test_X, test_Y\n",
    "\n",
    "\n",
    "# import the test and train dataframes\n",
    "train_X, train_Y, test_X, test_Y = get_dataframes()\n",
    "\n",
    "train_X.info()\n",
    "\n",
    "# take just first 10000 rows for training\n",
    "train_X = train_X[:1000]\n",
    "train_Y = train_Y[:1000]\n",
    "\n",
    "# take just first 1000 rows for testing\n",
    "test_X = test_X[:200]\n",
    "test_Y = test_Y[:200]\n",
    "\n"
   ]
  },
  {
   "cell_type": "code",
   "execution_count": 8,
   "metadata": {},
   "outputs": [
    {
     "name": "stdout",
     "output_type": "stream",
     "text": [
      "Accuracy for C =  0.001  is  0.655\n",
      "Accuracy for C =  0.01  is  0.705\n",
      "Accuracy for C =  0.1  is  0.73\n",
      "Accuracy for C =  1.0  is  0.715\n",
      "Accuracy for C =  10  is  0.71\n",
      "Best C value:  0.1\n",
      "Best accuracy:  0.73\n"
     ]
    }
   ],
   "source": [
    "# import the required libraries\n",
    "\n",
    "# for specific c values\n",
    "\n",
    "validation_k = 5\n",
    "validation_scores = []\n",
    "c_values = [0.001, 0.01, 0.1, 1.0, 10]\n",
    "accuracies = []\n",
    "\n",
    "\n",
    "def logistic_regression(is_validation=False, is_test=False):\n",
    "    best_accuracy = 0\n",
    "    best_weights = []\n",
    "    best_c = 0\n",
    "    for c in c_values:\n",
    "        log_reg = LogisticRegression(solver='sag',\n",
    "                                     multi_class='multinomial',\n",
    "                                     max_iter=5000, random_state=42, C=c)\n",
    "        if is_validation:\n",
    "            scores = cross_val_score(log_reg, train_X, train_Y, cv=5)\n",
    "            print('Accuracy for C = ', c, ' is ', scores.mean(\n",
    "            ), 'with standard deviation of ', scores.std(), 'and variance of ', scores.var())\n",
    "            validation_scores.append(scores.mean())\n",
    "\n",
    "        if is_test:\n",
    "            log_reg.fit(train_X, train_Y)\n",
    "            y_pred = log_reg.predict(test_X)\n",
    "            acc = accuracy_score(test_Y, y_pred)\n",
    "            print('Accuracy for C = ', c, ' is ', acc)\n",
    "            accuracies.append(acc)\n",
    "            if acc > best_accuracy:\n",
    "                best_accuracy = acc\n",
    "                best_c = c\n",
    "                best_weights = log_reg.coef_\n",
    "                # save the model\n",
    "                joblib.dump(log_reg, '../models/logistic_regression.joblib')\n",
    "\n",
    "    return best_accuracy, best_weights, best_c\n",
    "\n",
    "\n",
    "# store the best weights in a csv file in the models folder\n",
    "best_accuracy, best_weights, best_c = logistic_regression(is_test=True)\n",
    "np.savetxt('../models/best_weights_logistic.csv', best_weights, delimiter=',')\n",
    "print('Best C value: ', best_c)\n",
    "print('Best accuracy: ', best_accuracy)\n"
   ]
  },
  {
   "cell_type": "code",
   "execution_count": 9,
   "metadata": {},
   "outputs": [
    {
     "data": {
      "image/png": "[encoded data removed]",
      "text/plain": [
       "<Figure size 432x288 with 1 Axes>"
      ]
     },
     "metadata": {
      "needs_background": "light"
     },
     "output_type": "display_data"
    }
   ],
   "source": [
    "# plot the accuracies\n",
    "plt.plot(c_values, accuracies)\n",
    "plt.xlabel('C values')\n",
    "plt.ylabel('Accuracy')\n",
    "plt.show()\n",
    "\n"
   ]
  },
  {
   "cell_type": "code",
   "execution_count": 10,
   "metadata": {},
   "outputs": [
    {
     "name": "stdout",
     "output_type": "stream",
     "text": [
      "Accuracy for C =  0.001  is  0.67 with standard deviation of  0.019235384061671332 and variance of  0.0003699999999999995\n",
      "Accuracy for C =  0.01  is  0.704 with standard deviation of  0.014966629547095744 and variance of  0.00022399999999999937\n",
      "Accuracy for C =  0.1  is  0.723 with standard deviation of  0.014352700094407337 and variance of  0.00020600000000000037\n",
      "Accuracy for C =  1.0  is  0.7269999999999999 with standard deviation of  0.017776388834631195 and variance of  0.0003160000000000006\n",
      "Accuracy for C =  10  is  0.721 with standard deviation of  0.019849433241279184 and variance of  0.00039399999999999906\n"
     ]
    },
    {
     "data": {
      "image/png": "[encoded data removed]",
      "text/plain": [
       "<Figure size 432x288 with 1 Axes>"
      ]
     },
     "metadata": {
      "needs_background": "light"
     },
     "output_type": "display_data"
    }
   ],
   "source": [
    "# plotting the validation scores\n",
    "\n",
    "logistic_regression(is_validation=True)\n",
    "plt.plot(c_values, validation_scores)\n",
    "plt.xlabel('C values')\n",
    "plt.ylabel('Validation scores')\n",
    "plt.show()\n"
   ]
  },
  {
   "cell_type": "code",
   "execution_count": 11,
   "metadata": {},
   "outputs": [
    {
     "name": "stdout",
     "output_type": "stream",
     "text": [
      "Accuracy for the test data from loaded model is:  0.73\n"
     ]
    },
    {
     "data": {
      "text/plain": [
       "array([ 2, 17,  7,  1, 12, 12, 17,  4, 17, 16,  6,  3,  7,  3,  5,  6, 17,\n",
       "        2, 17, 16,  2,  6,  3, 17, 17, 17, 16,  3, 17,  6,  2, 17,  5, 12,\n",
       "        7,  2,  5, 16, 12, 17,  2,  3,  2,  4, 12,  4, 12,  3, 16,  2,  1,\n",
       "        3,  2,  6, 17,  1, 17, 17,  3,  7,  7, 12,  2,  5, 12, 12,  7,  5,\n",
       "       17,  7,  6, 12, 12,  6, 17,  4, 17,  4, 16,  6, 12, 17,  4,  4,  3,\n",
       "        7, 13,  4,  7,  3,  2,  1, 16,  2,  5, 17, 17, 24, 17, 16,  1, 16,\n",
       "       16,  4, 24,  3,  2, 17,  7,  3,  4,  7,  3,  6, 16,  5,  7,  4,  4,\n",
       "        7,  4,  4,  4, 17,  6,  1,  7,  4,  4,  2,  3,  6,  2,  6,  7,  1,\n",
       "       17, 12, 16,  4,  5, 24, 16, 17, 16, 13,  6,  4,  5,  1,  3,  7, 13,\n",
       "       13,  2, 17,  7, 12,  6, 16, 17,  6,  4, 16, 16,  4,  1, 16,  3,  1,\n",
       "        4,  2, 17, 17,  1,  7,  6,  7,  2,  7, 13,  4,  6,  2,  4,  3,  3,\n",
       "        7, 12,  6,  3,  2,  4,  6, 16, 17,  1,  7,  7,  6], dtype=int64)"
      ]
     },
     "execution_count": 11,
     "metadata": {},
     "output_type": "execute_result"
    }
   ],
   "source": [
    "# best model is loaded and used to predict the output\n",
    "def predict_output(test_X):\n",
    "    log_reg = joblib.load('../models/logistic_regression.joblib')\n",
    "    pred = log_reg.predict(test_X)\n",
    "    # get the accuracy\n",
    "    acc = accuracy_score(test_Y, pred)\n",
    "    print('Accuracy for the test data from loaded model is: ', acc)\n",
    "    return pred\n",
    "\n",
    "predict_output(test_X)"
   ]
  }
 ],
 "metadata": {
  "kernelspec": {
   "display_name": "Python 3",
   "language": "python",
   "name": "python3"
  },
  "language_info": {
   "codemirror_mode": {
    "name": "ipython",
    "version": 3
   },
   "file_extension": ".py",
   "mimetype": "text/x-python",
   "name": "python",
   "nbconvert_exporter": "python",
   "pygments_lexer": "ipython3",
   "version": "3.10.2"
  },
  "orig_nbformat": 4
 },
 "nbformat": 4,
 "nbformat_minor": 2
}
