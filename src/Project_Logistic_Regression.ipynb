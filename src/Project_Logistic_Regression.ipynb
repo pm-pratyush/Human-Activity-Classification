{
 "cells": [
  {
   "cell_type": "code",
   "execution_count": 19,
   "metadata": {},
   "outputs": [],
   "source": [
    "# import useful libraries\n",
    "import os\n",
    "import numpy as np\n",
    "import pandas as pd\n",
    "import seaborn as sns\n",
    "import matplotlib.pyplot as plt\n",
    "from sklearn.linear_model import LogisticRegression\n",
    "from sklearn.model_selection import validation_curve\n",
    "from sklearn.metrics import accuracy_score\n",
    "import joblib\n",
    "\n",
    "\n",
    "\n",
    "# ignore warnings\n",
    "import warnings\n",
    "warnings.filterwarnings('ignore')\n",
    "\n",
    "# import helper functions"
   ]
  },
  {
   "cell_type": "code",
   "execution_count": 20,
   "metadata": {},
   "outputs": [
    {
     "name": "stdout",
     "output_type": "stream",
     "text": [
      "<class 'pandas.core.frame.DataFrame'>\n",
      "RangeIndex: 140398 entries, 0 to 140397\n",
      "Data columns (total 40 columns):\n",
      " #   Column            Non-Null Count   Dtype  \n",
      "---  ------            --------------   -----  \n",
      " 0   heartrate         140398 non-null  float64\n",
      " 1   handTemperature   140398 non-null  float64\n",
      " 2   handAcc16_1       140398 non-null  float64\n",
      " 3   handAcc16_2       140398 non-null  float64\n",
      " 4   handAcc16_3       140398 non-null  float64\n",
      " 5   handAcc6_1        140398 non-null  float64\n",
      " 6   handAcc6_2        140398 non-null  float64\n",
      " 7   handAcc6_3        140398 non-null  float64\n",
      " 8   handGyro1         140398 non-null  float64\n",
      " 9   handGyro2         140398 non-null  float64\n",
      " 10  handGyro3         140398 non-null  float64\n",
      " 11  handMagne1        140398 non-null  float64\n",
      " 12  handMagne2        140398 non-null  float64\n",
      " 13  handMagne3        140398 non-null  float64\n",
      " 14  chestTemperature  140398 non-null  float64\n",
      " 15  chestAcc16_1      140398 non-null  float64\n",
      " 16  chestAcc16_2      140398 non-null  float64\n",
      " 17  chestAcc16_3      140398 non-null  float64\n",
      " 18  chestAcc6_1       140398 non-null  float64\n",
      " 19  chestAcc6_2       140398 non-null  float64\n",
      " 20  chestAcc6_3       140398 non-null  float64\n",
      " 21  chestGyro1        140398 non-null  float64\n",
      " 22  chestGyro2        140398 non-null  float64\n",
      " 23  chestGyro3        140398 non-null  float64\n",
      " 24  chestMagne1       140398 non-null  float64\n",
      " 25  chestMagne2       140398 non-null  float64\n",
      " 26  chestMagne3       140398 non-null  float64\n",
      " 27  ankleTemperature  140398 non-null  float64\n",
      " 28  ankleAcc16_1      140398 non-null  float64\n",
      " 29  ankleAcc16_2      140398 non-null  float64\n",
      " 30  ankleAcc16_3      140398 non-null  float64\n",
      " 31  ankleAcc6_1       140398 non-null  float64\n",
      " 32  ankleAcc6_2       140398 non-null  float64\n",
      " 33  ankleAcc6_3       140398 non-null  float64\n",
      " 34  ankleGyro1        140398 non-null  float64\n",
      " 35  ankleGyro2        140398 non-null  float64\n",
      " 36  ankleGyro3        140398 non-null  float64\n",
      " 37  ankleMagne1       140398 non-null  float64\n",
      " 38  ankleMagne2       140398 non-null  float64\n",
      " 39  ankleMagne3       140398 non-null  float64\n",
      "dtypes: float64(40)\n",
      "memory usage: 42.8 MB\n"
     ]
    }
   ],
   "source": [
    "data_folder = 'data'\n",
    "\n",
    "\n",
    "def get_dataframes():\n",
    "    train_X = pd.read_csv('../' + data_folder + '/' + 'train_X.csv')\n",
    "    train_Y = pd.read_csv('../' + data_folder + '/' + 'train_y.csv')\n",
    "    test_X = pd.read_csv('../' + data_folder + '/' + 'test_X.csv')\n",
    "    test_Y = pd.read_csv('../' + data_folder + '/' + 'test_y.csv')\n",
    "    return train_X, train_Y, test_X, test_Y\n",
    "\n",
    "\n",
    "# import the test and train dataframes\n",
    "train_X, train_Y, test_X, test_Y = get_dataframes()\n",
    "\n",
    "train_X.info()\n",
    "\n",
    "# # take just first 10000 rows for training\n",
    "# train_X = train_X[:1000]\n",
    "# train_Y = train_Y[:1000]\n",
    "\n",
    "# # take just first 1000 rows for testing\n",
    "# test_X = test_X[:200]\n",
    "# test_Y = test_Y[:200]\n",
    "\n"
   ]
  },
  {
   "cell_type": "code",
   "execution_count": 21,
   "metadata": {},
   "outputs": [
    {
     "name": "stdout",
     "output_type": "stream",
     "text": [
      "Accuracy for C =  0.001  is  0.7925925925925926\n",
      "Accuracy for C =  0.01  is  0.8014814814814815\n",
      "Accuracy for C =  0.1  is  0.8049287749287749\n",
      "Accuracy for C =  1.0  is  0.8065527065527065\n",
      "Optimal C value is 0.01\n",
      "Accuracy:  0.8014814814814815\n"
     ]
    }
   ],
   "source": [
    "# import the required libraries\n",
    "\n",
    "# for specific c values\n",
    "\n",
    "validation_k = 5\n",
    "validation_scores = {}\n",
    "c_values = [0.001, 0.01, 0.1, 1.0]\n",
    "accuracies = []\n",
    "\n",
    "\n",
    "def logistic_regression(is_validation=False, is_test=False):\n",
    "    best_accuracy = 0\n",
    "    best_weights = []\n",
    "    best_c = 0\n",
    "    if is_validation:\n",
    "        train_scores, test_scores = validation_curve(\n",
    "            LogisticRegression(), train_X, train_Y, param_name='C', param_range=c_values, cv=validation_k, scoring='accuracy')\n",
    "        train_scores = np.mean(train_scores, axis=1)\n",
    "        test_scores = np.mean(test_scores, axis=1)\n",
    "\n",
    "        print(\"Validation scores for C = \", c_values)\n",
    "        print(\"Train scores: \", train_scores)\n",
    "        print(\"Test scores: \", test_scores)\n",
    "        validation_scores = {'train': train_scores, 'test': test_scores}\n",
    "        return validation_scores\n",
    "    for c in c_values:\n",
    "        log_reg = LogisticRegression(solver='sag',\n",
    "                                     multi_class='multinomial',\n",
    "                                     max_iter=5000, random_state=42, C=c)\n",
    "\n",
    "        if is_test:\n",
    "            log_reg.fit(train_X, train_Y)\n",
    "            y_pred = log_reg.predict(test_X)\n",
    "            acc = accuracy_score(test_Y, y_pred)\n",
    "            print('Accuracy for C = ', c, ' is ', acc)\n",
    "            accuracies.append(acc)\n",
    "            if acc > best_accuracy:\n",
    "                best_accuracy = acc\n",
    "                best_c = c\n",
    "                best_weights = log_reg.coef_\n",
    "                # save the model\n",
    "                joblib.dump(log_reg, '../models/logistic_regression.joblib')\n",
    "\n",
    "    return best_accuracy, best_weights, best_c\n",
    "\n",
    "\n",
    "# store the best weights in a csv file in the models folder\n",
    "best_accuracy, best_weights, best_c = logistic_regression(is_test=True)\n",
    "np.savetxt('../models/best_weights_logistic.csv', best_weights, delimiter=',')\n",
    "print('Optimal C value is 0.01')\n",
    "print('Accuracy: ', accuracies[1])\n"
   ]
  },
  {
   "cell_type": "code",
   "execution_count": 22,
   "metadata": {},
   "outputs": [
    {
     "data": {
      "image/png": "[encoded data removed]",
      "text/plain": [
       "<Figure size 432x288 with 1 Axes>"
      ]
     },
     "metadata": {
      "needs_background": "light"
     },
     "output_type": "display_data"
    }
   ],
   "source": [
    "# plot the accuracies\n",
    "plt.plot(c_values, accuracies)\n",
    "plt.xlabel('C values')\n",
    "plt.ylabel('Accuracy')\n",
    "plt.title('Accuracy vs C values')\n",
    "plt.show()\n",
    "\n"
   ]
  },
  {
   "cell_type": "code",
   "execution_count": 23,
   "metadata": {},
   "outputs": [
    {
     "name": "stdout",
     "output_type": "stream",
     "text": [
      "Validation scores for C =  [0.001, 0.01, 0.1, 1.0]\n",
      "Train scores:  [0.74999466 0.7508654  0.75013177 0.74813566]\n",
      "Test scores:  [0.74917737 0.75055915 0.74956198 0.74774571]\n"
     ]
    },
    {
     "data": {
      "image/png": "[encoded data removed]",
      "text/plain": [
       "<Figure size 432x288 with 1 Axes>"
      ]
     },
     "metadata": {
      "needs_background": "light"
     },
     "output_type": "display_data"
    }
   ],
   "source": [
    "# plotting the validation scores\n",
    "\n",
    "validation_scores = logistic_regression(is_validation=True)\n",
    "plt.plot(c_values, validation_scores\n",
    "         ['train'], color='green', label='Train score')\n",
    "plt.plot(c_values, validation_scores\n",
    "         ['test'], color='blue', label='Cross Validation score')\n",
    "plt.title('Validation curve | Logistic Regression')\n",
    "plt.xlabel('C')\n",
    "plt.ylabel('Accuracy')\n",
    "plt.legend(loc='best')\n",
    "plt.show()\n"
   ]
  },
  {
   "cell_type": "code",
   "execution_count": 24,
   "metadata": {},
   "outputs": [
    {
     "name": "stdout",
     "output_type": "stream",
     "text": [
      "Accuracy for the test data from loaded model is:  0.8065527065527065\n"
     ]
    },
    {
     "data": {
      "text/plain": [
       "array([ 4, 17,  7, ...,  4,  3,  3], dtype=int64)"
      ]
     },
     "execution_count": 24,
     "metadata": {},
     "output_type": "execute_result"
    }
   ],
   "source": [
    "# best model is loaded and used to predict the output\n",
    "def predict_output(test_X):\n",
    "    log_reg = joblib.load('../models/logistic_regression.joblib')\n",
    "    pred = log_reg.predict(test_X)\n",
    "    # get the accuracy\n",
    "    acc = accuracy_score(test_Y, pred)\n",
    "    print('Accuracy for the test data from loaded model is: ', acc)\n",
    "    return pred\n",
    "\n",
    "predict_output(test_X)"
   ]
  }
 ],
 "metadata": {
  "kernelspec": {
   "display_name": "Python 3",
   "language": "python",
   "name": "python3"
  },
  "language_info": {
   "codemirror_mode": {
    "name": "ipython",
    "version": 3
   },
   "file_extension": ".py",
   "mimetype": "text/x-python",
   "name": "python",
   "nbconvert_exporter": "python",
   "pygments_lexer": "ipython3",
   "version": "3.10.2"
  },
  "orig_nbformat": 4
 },
 "nbformat": 4,
 "nbformat_minor": 2
}
