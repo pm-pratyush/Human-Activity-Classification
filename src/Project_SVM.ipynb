{
 "cells": [
  {
   "cell_type": "code",
   "execution_count": 27,
   "metadata": {},
   "outputs": [],
   "source": [
    "# import useful libraries\n",
    "import os\n",
    "import numpy as np\n",
    "import pandas as pd\n",
    "import seaborn as sns\n",
    "import matplotlib.pyplot as plt\n",
    "from sklearn.model_selection import validation_curve\n",
    "from sklearn.metrics import accuracy_score\n",
    "from sklearn.svm import SVC\n",
    "from sklearn.metrics import accuracy_score\n",
    "\n",
    "\n",
    "# ignore warnings\n",
    "import warnings\n",
    "warnings.filterwarnings('ignore')\n",
    "\n",
    "# import helper functions\n"
   ]
  },
  {
   "cell_type": "code",
   "execution_count": 28,
   "metadata": {},
   "outputs": [
    {
     "name": "stdout",
     "output_type": "stream",
     "text": [
      "<class 'pandas.core.frame.DataFrame'>\n",
      "RangeIndex: 140398 entries, 0 to 140397\n",
      "Data columns (total 40 columns):\n",
      " #   Column            Non-Null Count   Dtype  \n",
      "---  ------            --------------   -----  \n",
      " 0   heartrate         140398 non-null  float64\n",
      " 1   handTemperature   140398 non-null  float64\n",
      " 2   handAcc16_1       140398 non-null  float64\n",
      " 3   handAcc16_2       140398 non-null  float64\n",
      " 4   handAcc16_3       140398 non-null  float64\n",
      " 5   handAcc6_1        140398 non-null  float64\n",
      " 6   handAcc6_2        140398 non-null  float64\n",
      " 7   handAcc6_3        140398 non-null  float64\n",
      " 8   handGyro1         140398 non-null  float64\n",
      " 9   handGyro2         140398 non-null  float64\n",
      " 10  handGyro3         140398 non-null  float64\n",
      " 11  handMagne1        140398 non-null  float64\n",
      " 12  handMagne2        140398 non-null  float64\n",
      " 13  handMagne3        140398 non-null  float64\n",
      " 14  chestTemperature  140398 non-null  float64\n",
      " 15  chestAcc16_1      140398 non-null  float64\n",
      " 16  chestAcc16_2      140398 non-null  float64\n",
      " 17  chestAcc16_3      140398 non-null  float64\n",
      " 18  chestAcc6_1       140398 non-null  float64\n",
      " 19  chestAcc6_2       140398 non-null  float64\n",
      " 20  chestAcc6_3       140398 non-null  float64\n",
      " 21  chestGyro1        140398 non-null  float64\n",
      " 22  chestGyro2        140398 non-null  float64\n",
      " 23  chestGyro3        140398 non-null  float64\n",
      " 24  chestMagne1       140398 non-null  float64\n",
      " 25  chestMagne2       140398 non-null  float64\n",
      " 26  chestMagne3       140398 non-null  float64\n",
      " 27  ankleTemperature  140398 non-null  float64\n",
      " 28  ankleAcc16_1      140398 non-null  float64\n",
      " 29  ankleAcc16_2      140398 non-null  float64\n",
      " 30  ankleAcc16_3      140398 non-null  float64\n",
      " 31  ankleAcc6_1       140398 non-null  float64\n",
      " 32  ankleAcc6_2       140398 non-null  float64\n",
      " 33  ankleAcc6_3       140398 non-null  float64\n",
      " 34  ankleGyro1        140398 non-null  float64\n",
      " 35  ankleGyro2        140398 non-null  float64\n",
      " 36  ankleGyro3        140398 non-null  float64\n",
      " 37  ankleMagne1       140398 non-null  float64\n",
      " 38  ankleMagne2       140398 non-null  float64\n",
      " 39  ankleMagne3       140398 non-null  float64\n",
      "dtypes: float64(40)\n",
      "memory usage: 42.8 MB\n"
     ]
    }
   ],
   "source": [
    "data_folder = 'data'\n",
    "\n",
    "\n",
    "def get_dataframes():\n",
    "    train_X = pd.read_csv('../' + data_folder + '/' + 'train_X.csv')\n",
    "    train_Y = pd.read_csv('../' + data_folder + '/' + 'train_y.csv')\n",
    "    test_X = pd.read_csv('../' + data_folder + '/' + 'test_X.csv')\n",
    "    test_Y = pd.read_csv('../' + data_folder + '/' + 'test_y.csv')\n",
    "    return train_X, train_Y, test_X, test_Y\n",
    "\n",
    "\n",
    "# import the test and train dataframes\n",
    "train_X, train_Y, test_X, test_Y = get_dataframes()\n",
    "\n",
    "train_X.info()"
   ]
  },
  {
   "cell_type": "code",
   "execution_count": 29,
   "metadata": {},
   "outputs": [],
   "source": [
    "import pickle\n",
    "validation_k = 5\n",
    "validation_scores = {}\n",
    "c_values = [0.001, 0.01, 0.1, 1.0]\n",
    "accuracies = {}\n",
    "kernels = ['linear', 'poly', 'rbf', 'sigmoid']\n",
    "\n",
    "\n",
    "def svm(train_X=train_X, train_Y=train_Y, test_X=test_X, test_Y=test_Y, isValidation=False, isSaveModel = False):\n",
    "    best_accuracy = 0\n",
    "    best_kernel = ''\n",
    "    best_c = 0\n",
    "    for kernel in kernels:\n",
    "        if isValidation:\n",
    "            # make pipeline\n",
    "            train_score, test_score = validation_curve(\n",
    "                SVC(), train_X, train_Y, param_name='C', param_range=c_values, cv=validation_k, scoring='accuracy')\n",
    "            train_score_mean = np.mean(train_score, axis=1)\n",
    "            test_score_mean = np.mean(test_score, axis=1)\n",
    "            validation_dict = {}\n",
    "            validation_dict['train_score_mean'] = train_score_mean\n",
    "            validation_dict['test_score_mean'] = test_score_mean\n",
    "            validation_scores[kernel] = validation_dict\n",
    "            print('Validation scores for kernel ', kernel, ' are : ')\n",
    "            print('Train score : ', train_score_mean)\n",
    "            print('Test score : ', test_score_mean)\n",
    "        else:\n",
    "            for c in c_values:\n",
    "                svm_model = SVC(kernel=kernel, C=c, gamma=1)\n",
    "                svm_model.fit(train_X, train_Y)\n",
    "                y_pred = svm_model.predict(test_X)\n",
    "                accuracy = accuracy_score(test_Y, y_pred)\n",
    "                accuracies[(c, kernel)] = accuracy\n",
    "                if accuracy > best_accuracy:\n",
    "                    best_accuracy = accuracy\n",
    "                    best_c = c\n",
    "                    best_kernel = kernel\n",
    "                    if isSaveModel:\n",
    "                        pickle.dump(svm_model, open(\n",
    "                            '../models/svm_model.sav', 'wb'))\n",
    "                print('Accuracy for C = ', c, 'and kernel : ',\n",
    "                      kernel, ' is ', accuracy)\n",
    "\n",
    "    if isValidation:\n",
    "        return validation_scores\n",
    "    else:\n",
    "        return best_accuracy, best_c, best_kernel\n"
   ]
  },
  {
   "cell_type": "code",
   "execution_count": 30,
   "metadata": {},
   "outputs": [],
   "source": [
    "def plot_accuracy_vs_c(kernels=kernels, c_values=c_values, accuracies=accuracies, title = ''):\n",
    "    for kernel in kernels:\n",
    "        accuracy_vs_c = []\n",
    "        for c in c_values:\n",
    "            accuracy_vs_c.append(accuracies[(c, kernel)])\n",
    "        plt.plot(c_values, accuracy_vs_c, label=kernel)\n",
    "    plt.xlabel('C')\n",
    "    plt.ylabel('Accuracy')\n",
    "    plt.title(title)\n",
    "    plt.legend()\n",
    "    plt.show()\n"
   ]
  },
  {
   "attachments": {},
   "cell_type": "markdown",
   "metadata": {},
   "source": [
    "### Plotting accuracy for a range of c values for kernels (poly, sigmoid, linear, rbf), for a subset of data"
   ]
  },
  {
   "cell_type": "code",
   "execution_count": 31,
   "metadata": {},
   "outputs": [
    {
     "name": "stdout",
     "output_type": "stream",
     "text": [
      "Accuracy for C =  0.001 and kernel :  linear  is  0.785\n",
      "Accuracy for C =  0.01 and kernel :  linear  is  0.8\n",
      "Accuracy for C =  0.1 and kernel :  linear  is  0.79\n",
      "Accuracy for C =  1.0 and kernel :  linear  is  0.805\n",
      "Accuracy for C =  0.001 and kernel :  poly  is  0.865\n",
      "Accuracy for C =  0.01 and kernel :  poly  is  0.865\n",
      "Accuracy for C =  0.1 and kernel :  poly  is  0.865\n",
      "Accuracy for C =  1.0 and kernel :  poly  is  0.865\n",
      "Accuracy for C =  0.001 and kernel :  rbf  is  0.12\n",
      "Accuracy for C =  0.01 and kernel :  rbf  is  0.12\n",
      "Accuracy for C =  0.1 and kernel :  rbf  is  0.12\n",
      "Accuracy for C =  1.0 and kernel :  rbf  is  0.15\n",
      "Accuracy for C =  0.001 and kernel :  sigmoid  is  0.12\n",
      "Accuracy for C =  0.01 and kernel :  sigmoid  is  0.12\n",
      "Accuracy for C =  0.1 and kernel :  sigmoid  is  0.12\n",
      "Accuracy for C =  1.0 and kernel :  sigmoid  is  0.12\n",
      "Best accuracy:  0.865\n",
      "Best C:  0.001\n",
      "Best kernel:  poly\n"
     ]
    },
    {
     "data": {
      "image/png": "[encoded data removed]",
      "text/plain": [
       "<Figure size 432x288 with 1 Axes>"
      ]
     },
     "metadata": {
      "needs_background": "light"
     },
     "output_type": "display_data"
    }
   ],
   "source": [
    "best_accuracy, best_c, best_kernel = svm(train_X=train_X[:2000], train_Y=train_Y[:2000],\n",
    "                                         test_X=test_X[:200], test_Y=test_Y[:200], isValidation=False)\n",
    "\n",
    "print('Best accuracy: ', best_accuracy)\n",
    "print('Best C: ', best_c)\n",
    "print('Best kernel: ', best_kernel)\n",
    "\n",
    "# plot 3 line graphs for accuracy vs C for each kernel\n",
    "\n",
    "plot_accuracy_vs_c(title='SVM | All Kernels | Test Data')\n"
   ]
  },
  {
   "attachments": {},
   "cell_type": "markdown",
   "metadata": {},
   "source": [
    "We see that the rbf and sigmoid kernels do not report significant accuracies, thus we drop them and proceed with a larger subset of data"
   ]
  },
  {
   "cell_type": "code",
   "execution_count": 32,
   "metadata": {},
   "outputs": [
    {
     "name": "stdout",
     "output_type": "stream",
     "text": [
      "Accuracy for C =  0.001 and kernel :  linear  is  0.8345\n",
      "Accuracy for C =  0.01 and kernel :  linear  is  0.871\n",
      "Accuracy for C =  0.1 and kernel :  linear  is  0.87\n",
      "Accuracy for C =  1.0 and kernel :  linear  is  0.873\n",
      "Accuracy for C =  0.001 and kernel :  poly  is  0.9475\n",
      "Accuracy for C =  0.01 and kernel :  poly  is  0.9475\n",
      "Accuracy for C =  0.1 and kernel :  poly  is  0.9475\n",
      "Accuracy for C =  1.0 and kernel :  poly  is  0.9475\n",
      "Best accuracy:  0.9475\n",
      "Best C:  0.001\n",
      "Best kernel:  poly\n"
     ]
    },
    {
     "data": {
      "image/png": "[encoded data removed]",
      "text/plain": [
       "<Figure size 432x288 with 1 Axes>"
      ]
     },
     "metadata": {
      "needs_background": "light"
     },
     "output_type": "display_data"
    }
   ],
   "source": [
    "kernels = ['linear', 'poly']\n",
    "best_accuracy, best_c, best_kernel = svm(train_X=train_X[:20000], train_Y=train_Y[:20000],\n",
    "                                         test_X=test_X[:2000], test_Y=test_Y[:2000], isValidation=False)\n",
    "\n",
    "print('Best accuracy: ', best_accuracy)\n",
    "print('Best C: ', best_c)\n",
    "print('Best kernel: ', best_kernel)\n",
    "\n",
    "# plot 3 line graphs for accuracy vs C for each kernel\n",
    "\n",
    "plot_accuracy_vs_c(kernels=kernels, c_values=c_values,\n",
    "                   title='SVM | Linear,  Poly Kernels | Test Data')\n"
   ]
  },
  {
   "attachments": {},
   "cell_type": "markdown",
   "metadata": {},
   "source": [
    "VALIDATION CURVE FOR BEST KERNEL "
   ]
  },
  {
   "cell_type": "code",
   "execution_count": 33,
   "metadata": {},
   "outputs": [
    {
     "name": "stdout",
     "output_type": "stream",
     "text": [
      "Validation scores for kernel  poly  are : \n",
      "Train score :  [0.1281    0.5658625 0.748775  0.8499375]\n",
      "Test score :  [0.1281  0.56555 0.74615 0.84155]\n"
     ]
    },
    {
     "data": {
      "image/png": "[encoded data removed]",
      "text/plain": [
       "<Figure size 432x288 with 1 Axes>"
      ]
     },
     "metadata": {
      "needs_background": "light"
     },
     "output_type": "display_data"
    }
   ],
   "source": [
    "# get the validation scores for best kernel   (ONLY FOR BEST KERNEL)\n",
    "kernels = [best_kernel]\n",
    "# validation score using full training set\n",
    "validation_scores = svm(train_X=train_X[:20000], train_Y=train_Y[:20000],\n",
    "                        test_X=test_X[:2000], test_Y=test_Y[:2000], isValidation=True)\n",
    "# plot the validation scores for each C for best kernel\n",
    "\n",
    "\n",
    "def plot_validation_scores():\n",
    "    plt.plot(c_values, validation_scores[best_kernel]\n",
    "             ['train_score_mean'], color='green', label='Train score')\n",
    "    plt.plot(c_values, validation_scores[best_kernel]\n",
    "             ['test_score_mean'], color='blue', label='Cross Validation score')\n",
    "    plt.title('Validation curve | SVM | ' + best_kernel)\n",
    "    plt.xlabel('C')\n",
    "    plt.ylabel('Accuracy')\n",
    "    plt.legend(loc='best')\n",
    "    plt.show()\n",
    "\n",
    "\n",
    "plot_validation_scores()\n"
   ]
  },
  {
   "attachments": {},
   "cell_type": "markdown",
   "metadata": {},
   "source": [
    "### Using Full Dataset to store model and find accuracy for best C and kernel"
   ]
  },
  {
   "cell_type": "code",
   "execution_count": 34,
   "metadata": {},
   "outputs": [
    {
     "name": "stdout",
     "output_type": "stream",
     "text": [
      "Accuracy for C =  0.01 and kernel :  poly  is  0.9794586894586894\n",
      "Best accuracy:  0.9794586894586894\n",
      "Best C:  0.01\n",
      "Best kernel:  poly\n"
     ]
    }
   ],
   "source": [
    "kernels = [best_kernel]\n",
    "c_values = [0.01]\n",
    "\n",
    "best_accuracy, best_c, best_kernel = svm(isValidation=False, isSaveModel=True)\n",
    "print('Best accuracy: ', best_accuracy)\n",
    "print('Best C: ', best_c)\n",
    "print('Best kernel: ', best_kernel)\n"
   ]
  },
  {
   "cell_type": "code",
   "execution_count": 35,
   "metadata": {},
   "outputs": [
    {
     "name": "stdout",
     "output_type": "stream",
     "text": [
      "Accuracy for SVM model:  0.9794586894586894\n"
     ]
    }
   ],
   "source": [
    "\n",
    "def load_model_predict():\n",
    "    loaded_model = pickle.load(open('../models/svm_model.sav', 'rb'))\n",
    "    result = loaded_model.score(test_X, test_Y)\n",
    "    print(\"Accuracy for SVM model: \", result)\n",
    "\n",
    "\n",
    "load_model_predict()\n"
   ]
  }
 ],
 "metadata": {
  "kernelspec": {
   "display_name": "Python 3",
   "language": "python",
   "name": "python3"
  },
  "language_info": {
   "codemirror_mode": {
    "name": "ipython",
    "version": 3
   },
   "file_extension": ".py",
   "mimetype": "text/x-python",
   "name": "python",
   "nbconvert_exporter": "python",
   "pygments_lexer": "ipython3",
   "version": "3.10.2"
  },
  "orig_nbformat": 4
 },
 "nbformat": 4,
 "nbformat_minor": 2
}
